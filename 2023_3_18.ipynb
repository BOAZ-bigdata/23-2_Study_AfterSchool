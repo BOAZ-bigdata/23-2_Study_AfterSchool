{
 "cells": [
  {
   "cell_type": "code",
   "execution_count": null,
   "metadata": {},
   "outputs": [],
   "source": [
    "#13305\n",
    "city=int(input())\n",
    "distances=list(map(int,input().split()))\n",
    "oil_price=list(map(int,input().split()))\n",
    "sum=0\n",
    "count=0\n",
    "sum+=distances[0]*oil_price[0]\n",
    "for i in range(1,len(distances)):\n",
    "    for j in range(i,len(distances)):\n",
    "        if oil_price[i]<=oil_price[j]:\n",
    "            count+=1\n",
    "    if distances[i]<distances[i-1]:\n",
    "        sum+=distances[i]*oil_price[i]\n",
    "print(sum)\n"
   ]
  },
  {
   "cell_type": "code",
   "execution_count": 11,
   "metadata": {},
   "outputs": [
    {
     "name": "stdout",
     "output_type": "stream",
     "text": [
      "3 4 1 2 5 "
     ]
    }
   ],
   "source": [
    "m,n=map(int,input().split())\n",
    "num_list=[i+1 for i in range(m)]\n",
    "for i in range(n):\n",
    "    start,end=map(int,input().split())\n",
    "    for j in range((end-start+1)//2):\n",
    "        tempt=num_list[start-1+j]\n",
    "        num_list[start-1+j]=num_list[end-j-1]\n",
    "        num_list[end-j-1]=tempt\n",
    "        \n",
    "\n",
    "for i in num_list:\n",
    "    print(i,end=' ')"
   ]
  },
  {
   "cell_type": "code",
   "execution_count": 12,
   "metadata": {},
   "outputs": [
    {
     "name": "stdout",
     "output_type": "stream",
     "text": [
      "1 2 1 1 0 "
     ]
    }
   ],
   "source": [
    "m,n=map(int,input().split())\n",
    "num_list=[0 for i in range(m)]\n",
    "for i in range(n):\n",
    "    start,end,ball=map(int,input().split())\n",
    "    for i in range(start-1,end):\n",
    "        num_list[i]=ball\n",
    "        \n",
    "\n",
    "for i in num_list:\n",
    "    print(i,end=' ')"
   ]
  },
  {
   "cell_type": "code",
   "execution_count": null,
   "metadata": {},
   "outputs": [],
   "source": [
    "m,n=map(int,input().split())\n",
    "num_list=[i+1 for i in range(m)]\n",
    "for i in range(n):\n",
    "    start,end=map(int,input().split())\n",
    "    tempt=num_list[start-1]\n",
    "    num_list[start-1]=num_list[end-1]\n",
    "    num_list[end-1]=tempt   \n",
    "\n",
    "for i in num_list:\n",
    "    print(i,end=' ')"
   ]
  },
  {
   "cell_type": "code",
   "execution_count": 14,
   "metadata": {},
   "outputs": [
    {
     "name": "stdout",
     "output_type": "stream",
     "text": [
      "[29, 30]\n",
      "[29, 30]\n"
     ]
    }
   ],
   "source": [
    "a=[i+1 for i in range(30)]\n",
    "for i in range(28):\n",
    "    b=int(input())\n",
    "    a.remove(b)\n",
    "for i in a:\n",
    "    print(i)"
   ]
  },
  {
   "cell_type": "code",
   "execution_count": 22,
   "metadata": {},
   "outputs": [
    {
     "name": "stdout",
     "output_type": "stream",
     "text": [
      "    *\n",
      "   ***\n",
      "  *****\n",
      " *******\n",
      "*********\n",
      " *******\n",
      "  *****\n",
      "   ***\n",
      "    *\n"
     ]
    }
   ],
   "source": [
    "a=int(input())\n",
    "for i in range(a):\n",
    "    print(\" \"*(a-i-1)+\"*\"*(2*i+1))\n",
    "for i in range(a-1,0,-1):\n",
    "    print(\" \"*(a-i+1-1)+\"*\"*(2*i-1))\n"
   ]
  },
  {
   "cell_type": "code",
   "execution_count": null,
   "metadata": {},
   "outputs": [],
   "source": []
  }
 ],
 "metadata": {
  "kernelspec": {
   "display_name": "base",
   "language": "python",
   "name": "python3"
  },
  "language_info": {
   "codemirror_mode": {
    "name": "ipython",
    "version": 3
   },
   "file_extension": ".py",
   "mimetype": "text/x-python",
   "name": "python",
   "nbconvert_exporter": "python",
   "pygments_lexer": "ipython3",
   "version": "3.9.7"
  },
  "orig_nbformat": 4
 },
 "nbformat": 4,
 "nbformat_minor": 2
}

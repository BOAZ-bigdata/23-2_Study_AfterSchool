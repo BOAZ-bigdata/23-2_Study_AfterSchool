{
 "cells": [
  {
   "cell_type": "code",
   "execution_count": 15,
   "metadata": {},
   "outputs": [
    {
     "name": "stdout",
     "output_type": "stream",
     "text": [
      "1\n",
      "0\n",
      "1\n",
      "1\n"
     ]
    }
   ],
   "source": [
    "#10942 팰린드롬? 오답\n",
    "def falindrom(string,start,end):\n",
    "    \n",
    "    for i in range(start,int(start+end/2)):\n",
    "        \n",
    "        if string[i-1]!=string[end-i]:\n",
    "            return 0\n",
    "    return 1\n",
    "length=int(input())\n",
    "arr=list(map(str,input().split()))\n",
    "question_number=int(input())\n",
    "\n",
    "for i in range(question_number):\n",
    "    \n",
    "    start_,end_=map(int,input().split())\n",
    "    print(falindrom(arr,start_,end_))\n",
    "    \n",
    "\n"
   ]
  },
  {
   "cell_type": "code",
   "execution_count": 18,
   "metadata": {},
   "outputs": [
    {
     "name": "stdout",
     "output_type": "stream",
     "text": [
      "6\n"
     ]
    }
   ],
   "source": [
    "n,k=map(int,input().split())\n",
    "cash=list()\n",
    "for i in range(n):\n",
    "    elem=int(input())\n",
    "    cash.append(elem)\n",
    "result=0\n",
    "cash.sort(reverse=True)\n",
    "for i in cash:\n",
    "    result+=(k//i)\n",
    "    k=k%i\n",
    "print(result)"
   ]
  },
  {
   "cell_type": "code",
   "execution_count": 1,
   "metadata": {},
   "outputs": [
    {
     "name": "stdout",
     "output_type": "stream",
     "text": [
      "[[1, 4], [3, 5], [0, 6], [5, 7], [3, 8], [5, 9], [6, 10], [8, 11], [8, 12], [2, 13], [12, 14]]\n",
      "[[1, 4], [3, 5], [0, 6], [5, 7], [3, 8], [5, 9], [6, 10], [8, 11], [8, 12], [2, 13], [12, 14]]\n",
      "[[1, 4], [3, 5], [0, 6], [5, 7], [3, 8], [5, 9], [6, 10], [8, 11], [8, 12], [2, 13], [12, 14]]\n",
      "4\n"
     ]
    }
   ],
   "source": [
    "#1931\n",
    "n=int(input())\n",
    "arr=list()\n",
    "result=0\n",
    "for i in range(n):\n",
    "    start,end=map(int,input().split())\n",
    "    arr.append([start,end])\n",
    "#정렬해서 끝나는 시간이 가장 빠른것\n",
    "#정령해서 시작하는 시간이 가장 느린것\n",
    "arr.sort(key = lambda x: (x[1], x[0]))\n",
    "\n",
    "cnt = 1\n",
    "end_time = arr[0][1]\n",
    "for i in range(1, n):\n",
    "    if arr[i][0] >= end_time:\n",
    "        cnt += 1\n",
    "        end_time = arr[i][1]\n",
    "        print(arr)\n",
    "\n",
    "print(cnt)"
   ]
  },
  {
   "cell_type": "code",
   "execution_count": 47,
   "metadata": {},
   "outputs": [],
   "source": [
    "#2217\n",
    "import sys\n",
    "input=sys.stdin.readline\n",
    "n=int(input())\n",
    "weight=list()\n",
    "maximum_weight=list()\n",
    "for i in range(n):\n",
    "    a=int(input())\n",
    "    weight.append(a)\n",
    "weight.sort()\n",
    "sum=0\n",
    "for i in range(1,n+1):\n",
    "    maximum_weight.append(weight[n-i]*i)\n",
    "print(max(maximum_weight))"
   ]
  },
  {
   "cell_type": "code",
   "execution_count": 23,
   "metadata": {},
   "outputs": [
    {
     "name": "stdout",
     "output_type": "stream",
     "text": [
      "Help on built-in function max in module builtins:\n",
      "\n",
      "max(...)\n",
      "    max(iterable, *[, default=obj, key=func]) -> value\n",
      "    max(arg1, arg2, *args, *[, key=func]) -> value\n",
      "    \n",
      "    With a single iterable argument, return its biggest item. The\n",
      "    default keyword-only argument specifies an object to return if\n",
      "    the provided iterable is empty.\n",
      "    With two or more arguments, return the largest argument.\n",
      "\n"
     ]
    }
   ],
   "source": [
    "#1026\n",
    "n=int(input())\n",
    "a=list(map(int,input().split()))\n",
    "b=list(map(int,input().split()))\n",
    "a.sort()\n",
    "b.sort(reverse=True)\n",
    "s=0\n",
    "for i in range(n):\n",
    "    s+=a[i]*b[i]\n",
    "print(s)\n"
   ]
  },
  {
   "cell_type": "code",
   "execution_count": 10,
   "metadata": {},
   "outputs": [
    {
     "name": "stdout",
     "output_type": "stream",
     "text": [
      "1\n",
      "3\n",
      "6\n",
      "9\n",
      "13\n",
      "32\n"
     ]
    }
   ],
   "source": [
    "#11399\n",
    "n=int(input())\n",
    "time=list(map(int,input().split()))\n",
    "sub_total=0\n",
    "total=0\n",
    "time.sort()\n",
    "for i in range(n):\n",
    "    for j in range(i+1):\n",
    "        sub_total+=time[j]\n",
    "    \n",
    "    total+=sub_total\n",
    "    sub_total=0\n",
    "    \n",
    "print(total)"
   ]
  },
  {
   "cell_type": "code",
   "execution_count": 15,
   "metadata": {},
   "outputs": [
    {
     "name": "stdout",
     "output_type": "stream",
     "text": [
      "4\n"
     ]
    }
   ],
   "source": [
    "#1439\n",
    "s=input()\n",
    "zero_count=0\n",
    "one_count=0\n",
    "tempt=\"\"\n",
    "count=0\n",
    "if len(s)==1:\n",
    "    print(0)\n",
    "else:\n",
    "    for i in range(len(s)-1):\n",
    "        if s[i]!=s[i+1]:\n",
    "            count+=1\n",
    "    print(int((count+1)/2))\n",
    "\n"
   ]
  },
  {
   "cell_type": "code",
   "execution_count": 72,
   "metadata": {},
   "outputs": [
    {
     "name": "stdout",
     "output_type": "stream",
     "text": [
      "6\n"
     ]
    }
   ],
   "source": [
    "#2847\n",
    "n=int(input())\n",
    "count=0\n",
    "score_list=list()\n",
    "for i in range(n):\n",
    "    a=int(input())\n",
    "    score_list.append(a)\n",
    "if len(score_list)==1:\n",
    "    print(0)\n",
    "else:\n",
    "    for i in range(n-1):\n",
    "        higher=score_list[n-1-i]\n",
    "        if(score_list[n-2-i]>=higher):\n",
    "            difference=score_list[n-2-i]-higher+1\n",
    "            score_list[n-2-i]=higher-1\n",
    "            \n",
    "            count+=difference\n",
    "            \n",
    "    print(count)"
   ]
  },
  {
   "cell_type": "code",
   "execution_count": null,
   "metadata": {},
   "outputs": [],
   "source": []
  }
 ],
 "metadata": {
  "kernelspec": {
   "display_name": "base",
   "language": "python",
   "name": "python3"
  },
  "language_info": {
   "codemirror_mode": {
    "name": "ipython",
    "version": 3
   },
   "file_extension": ".py",
   "mimetype": "text/x-python",
   "name": "python",
   "nbconvert_exporter": "python",
   "pygments_lexer": "ipython3",
   "version": "3.9.7"
  },
  "orig_nbformat": 4,
  "vscode": {
   "interpreter": {
    "hash": "6d0533e67db48baa59d91fe1047d48c423c6c160898bfe6dda554b85cd00ec59"
   }
  }
 },
 "nbformat": 4,
 "nbformat_minor": 2
}

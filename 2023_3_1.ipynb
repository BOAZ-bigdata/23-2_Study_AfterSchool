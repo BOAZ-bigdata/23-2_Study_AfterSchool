{
 "cells": [
  {
   "cell_type": "code",
   "execution_count": 8,
   "metadata": {},
   "outputs": [
    {
     "name": "stdout",
     "output_type": "stream",
     "text": [
      "6\n"
     ]
    }
   ],
   "source": [
    "#7570\n",
    "n=int(input())\n",
    "count=0\n",
    "kids=list(map(int,input().split()))#index번호는 0부터 n-1\n",
    "\n",
    "for i in range(len(kids)-1): #0부터 n-2까지\n",
    "    if kids[i]>kids[i+1]:\n",
    "        count+=1\n",
    "print(n-count)\n"
   ]
  },
  {
   "cell_type": "code",
   "execution_count": 16,
   "metadata": {},
   "outputs": [
    {
     "name": "stdout",
     "output_type": "stream",
     "text": [
      "8\n"
     ]
    }
   ],
   "source": [
    "\n",
    "n = int(input())\n",
    "nums = list(map(int, input().split()))\n",
    "nums.insert(0,0)\n",
    "positions=[0]*(n+1)\n",
    "for i in range(1,len(nums)):\n",
    "    positions[nums[i]] = i\n",
    "count=1\n",
    "max=1\n",
    "for i in range(1,len(nums)-1):\n",
    "    if(positions[i] < positions[i+1]):\n",
    "        count+=1\n",
    "        if(count>max):\n",
    "            max = count\n",
    "    else:\n",
    "        count=1\n",
    "\n",
    "print(n-max)"
   ]
  },
  {
   "cell_type": "code",
   "execution_count": 2,
   "metadata": {},
   "outputs": [],
   "source": [
    "def printstar(a):\n",
    "    print('*'*a)\n",
    "def printspace(a):\n",
    "    print(' '*a,sep='',end='')\n"
   ]
  },
  {
   "cell_type": "code",
   "execution_count": 4,
   "metadata": {},
   "outputs": [
    {
     "name": "stdout",
     "output_type": "stream",
     "text": [
      "   ***\n"
     ]
    }
   ],
   "source": [
    "printspace(3)\n",
    "\n",
    "printstar(3)"
   ]
  },
  {
   "cell_type": "code",
   "execution_count": null,
   "metadata": {},
   "outputs": [],
   "source": []
  }
 ],
 "metadata": {
  "kernelspec": {
   "display_name": "base",
   "language": "python",
   "name": "python3"
  },
  "language_info": {
   "codemirror_mode": {
    "name": "ipython",
    "version": 3
   },
   "file_extension": ".py",
   "mimetype": "text/x-python",
   "name": "python",
   "nbconvert_exporter": "python",
   "pygments_lexer": "ipython3",
   "version": "3.9.7"
  },
  "orig_nbformat": 4,
  "vscode": {
   "interpreter": {
    "hash": "6d0533e67db48baa59d91fe1047d48c423c6c160898bfe6dda554b85cd00ec59"
   }
  }
 },
 "nbformat": 4,
 "nbformat_minor": 2
}

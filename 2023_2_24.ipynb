{
 "cells": [
  {
   "cell_type": "code",
   "execution_count": 1,
   "metadata": {},
   "outputs": [
    {
     "name": "stdout",
     "output_type": "stream",
     "text": [
      "[3, 2, 1, -1]\n"
     ]
    }
   ],
   "source": [
    "#1744 난 바보다\n",
    "# n : 데이터의 크기\n",
    "n = int(input())\n",
    "\n",
    "# plus : 양수 데이터 리스트, minus : 음수 데이터 리스트\n",
    "plus = []\n",
    "minus = []\n",
    "\n",
    "result = 0\n",
    "for i in range(n):\n",
    "    num = int(input())\n",
    "    if num > 1:\n",
    "        plus.append(num)\n",
    "    elif num <= 0:\n",
    "        minus.append(num)\n",
    "    else:\n",
    "        result += num\n",
    "\n",
    "# 정렬\n",
    "plus.sort(reverse=True)\n",
    "minus.sort() # ex) -3 -2 -1 \n",
    "\n",
    "# 양수 묶기\n",
    "for i in range(0, len(plus), 2):\n",
    "    if i+1 == len(plus):\n",
    "        result += plus[i]\n",
    "    else:\n",
    "        result += (plus[i] * plus[i+1])\n",
    "\n",
    "# 음수 묶기\n",
    "for i in range(0, len(minus), 2):\n",
    "    if i+1 == len(minus):\n",
    "        result += minus[i]\n",
    "    else:\n",
    "        result += (minus[i] * minus[i+1])\n",
    "\n",
    "print(result)"
   ]
  },
  {
   "cell_type": "code",
   "execution_count": 31,
   "metadata": {},
   "outputs": [
    {
     "name": "stdout",
     "output_type": "stream",
     "text": [
      "9 14 12 31\n",
      "6 15 12 31\n",
      "6 3 12 31\n",
      "4 12 12 31\n",
      "2 28 12 31\n",
      "5\n"
     ]
    }
   ],
   "source": [
    "#2457\n",
    "import sys\n",
    "\n",
    "n = int(sys.stdin.readline())\n",
    "date = []\n",
    "\n",
    "# 편의를 위해 100을 곱해 날짜 형식으로 바꿈\n",
    "for _ in range(n):\n",
    "    temp = list(map(int, sys.stdin.readline().split()))\n",
    "    date.append([temp[0] * 100 + temp[1], temp[2] * 100 + temp[3]])\n",
    "\n",
    "# 꽃이 피고 지는 날짜를 오름차순으로 정렬\n",
    "date.sort(key=lambda x:(x[0], x[1]))\n",
    "# 선택한 꽃의 개수\n",
    "cnt = 0\n",
    "# 제일 늦게 지는 꽃을 비교\n",
    "end = 0\n",
    "# 마지막 꽃의 지는 날\n",
    "target = 301\n",
    "\n",
    "# 모든 꽃이 없어질 때까지 반복하여 꽃을 비교한다.\n",
    "while date:\n",
    "    # 마지막 꽃의 지는날이 12월 1일 보다 크거나 같을 때와\n",
    "    # 마지막 꽃의 지는날이 제일 빨리 피는 꽃보다 작으면 멈춘다.\n",
    "    if target >= 1201 or target < date[0][0]:\n",
    "        break\n",
    "\n",
    "    # 꽃의 개수의 길이만큼 반복하여 구간별로 꽃을 비교한다.\n",
    "    for _ in range(len(date)):\n",
    "        # 마지막 꽃의 지는 날이 제일 빨리 피는 꽃보다 크거나 같으면 그 꽃의 지는 날을 확인한다.\n",
    "        if target >= date[0][0]:\n",
    "            # 그 꽃의 지는 날과 마지막으로 꽃의 지는 날을 비교한다.\n",
    "            # 그 꽃의 지는 날이 더 크면 더 오래 꽃을 볼 수 있기때문에\n",
    "            # 그 꽃의 지는 날을 마지막 꽃의 지는 날로 바꾼다.\n",
    "            if end <= date[0][1]:\n",
    "                end = date[0][1]\n",
    "\n",
    "            # 꽃을 확인 하면 제거한다.\n",
    "            date.remove(date[0])\n",
    "\n",
    "        # 꽃의 지는 날이 제일 빨리 피는 꽃보다 작으면 멈춰준다.\n",
    "        else:\n",
    "            break\n",
    "\n",
    "    # 최종적으로 선택한 꽃의 지는 날을 바꾼다.\n",
    "    target = end\n",
    "    # 꽃을 선택했으므로 카운트한다.\n",
    "    cnt += 1\n",
    "\n",
    "# 마지막 꽃의 지는 날이 12월 1일보다 작으면 11월 30일에는 피어있는 꽃이 없기때문에 0을 출력\n",
    "if target < 1201:\n",
    "    print(0)\n",
    "else:\n",
    "    print(cnt)"
   ]
  },
  {
   "cell_type": "code",
   "execution_count": 37,
   "metadata": {},
   "outputs": [
    {
     "name": "stdout",
     "output_type": "stream",
     "text": [
      "1\n",
      "2\n"
     ]
    }
   ],
   "source": [
    "n=int(input())\n",
    "time=list()\n",
    "count=0\n",
    "\n",
    "for i in range(n):\n",
    "    s,t=map(int,input().split())\n",
    "    time.append((s,t))\n",
    "time.sort(key=lambda x: (x[0],x[1]))\n",
    "end=time[0][1]\n",
    "\n",
    "for i in range(1,len(time)):\n",
    "    if time[i][0]>=end and time[i][1]>end:\n",
    "        end=time[i][1]\n",
    "    else:\n",
    "        count+=1\n",
    "\n",
    "print(count)\n",
    "\n",
    "        \n",
    "            \n",
    "    \n"
   ]
  },
  {
   "cell_type": "code",
   "execution_count": 43,
   "metadata": {},
   "outputs": [
    {
     "name": "stdout",
     "output_type": "stream",
     "text": [
      "55\n"
     ]
    }
   ],
   "source": [
    "#2748\n",
    "n=int(input())\n",
    "pivonachi=[0]*(n+1)\n",
    "pivonachi[1]=1\n",
    "for i in range(n-1):\n",
    "    pivonachi[i+2]=pivonachi[i+1]+pivonachi[i]\n",
    "print(pivonachi[n])"
   ]
  },
  {
   "cell_type": "code",
   "execution_count": null,
   "metadata": {},
   "outputs": [],
   "source": [
    "#9655\n",
    "n=int(input())\n",
    "\n",
    "print(\"SK\")\n",
    "print(\"CY\")"
   ]
  },
  {
   "cell_type": "code",
   "execution_count": null,
   "metadata": {},
   "outputs": [],
   "source": [
    "#9095\n",
    "n=int(input())\n",
    "for i in range(n):\n",
    "    a=int(input())\n",
    "    count=0\n",
    "    \n",
    "\n",
    "    print(count)"
   ]
  },
  {
   "cell_type": "code",
   "execution_count": 2,
   "metadata": {},
   "outputs": [
    {
     "name": "stdout",
     "output_type": "stream",
     "text": [
      "2\n"
     ]
    }
   ],
   "source": [
    "a=int(float(input()))\n",
    "print(a)"
   ]
  },
  {
   "cell_type": "code",
   "execution_count": null,
   "metadata": {},
   "outputs": [],
   "source": []
  }
 ],
 "metadata": {
  "kernelspec": {
   "display_name": "base",
   "language": "python",
   "name": "python3"
  },
  "language_info": {
   "codemirror_mode": {
    "name": "ipython",
    "version": 3
   },
   "file_extension": ".py",
   "mimetype": "text/x-python",
   "name": "python",
   "nbconvert_exporter": "python",
   "pygments_lexer": "ipython3",
   "version": "3.9.7"
  },
  "orig_nbformat": 4,
  "vscode": {
   "interpreter": {
    "hash": "6d0533e67db48baa59d91fe1047d48c423c6c160898bfe6dda554b85cd00ec59"
   }
  }
 },
 "nbformat": 4,
 "nbformat_minor": 2
}
